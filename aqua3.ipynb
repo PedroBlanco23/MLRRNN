{
   "cells":[
	{
 	"cell_type": "markdown",
   	"metadata": {},
   	"source": [
    		"# Machine Learning para prevención de incendios forestales\n",
    		"[![Open In Studio Lab](https://studiolab.sagemaker.aws/studiolab.svg)](https://studiolab.sagemaker.aws/import/github/PedroBlanco23/MLRRNN/blob/main/aqua3.ipynb)"
		]
	}
	],
"metadata": {
  "instance_type": "ml.t2.medium",
  "kernelspec": {
   "display_name": ".conda-default:Python",
   "language": "python",
   "name": "conda-env-.conda-default-py"
  },
  "language_info": {
   "codemirror_mode": {
    "name": "ipython",
    "version": 3
   },
   "file_extension": ".py",
   "mimetype": "text/x-python",
   "name": "python",
   "nbconvert_exporter": "python",
   "pygments_lexer": "ipython3",
   "version": "3.9.7"
  }
 },
 "nbformat": 4,
 "nbformat_minor": 4
}